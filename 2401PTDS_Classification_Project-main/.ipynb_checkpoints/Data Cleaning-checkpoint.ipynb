{
 "cells": [
  {
   "cell_type": "code",
   "execution_count": 3,
   "id": "4cb859ad-23ca-4127-8fba-22bc0f582d9c",
   "metadata": {},
   "outputs": [],
   "source": [
    "import nltk\n",
    "import numpy as np\n",
    "import pandas as pd\n",
    "import matplotlib.pyplot as plt\n",
    "%matplotlib inline\n",
    "import seaborn as sns\n",
    "import re\n",
    "sns.set_theme()\n",
    "\n",
    "from sklearn.feature_extraction.text import CountVectorizer\n",
    "from scipy.sparse import hstack\n",
    "from sklearn.linear_model import LogisticRegression\n",
    "from sklearn.tree import DecisionTreeClassifier\n",
    "from sklearn.model_selection import GridSearchCV\n",
    "from sklearn.metrics import classification_report"
   ]
  },
  {
   "cell_type": "markdown",
   "id": "45839378-45ba-4765-a925-db8f3959c9db",
   "metadata": {},
   "source": [
    "## Data Import ##"
   ]
  },
  {
   "cell_type": "code",
   "execution_count": 5,
   "id": "36e9c43d-ac73-49f5-9651-caa560a1e22d",
   "metadata": {},
   "outputs": [],
   "source": [
    "train = pd.read_csv('train.csv')\n",
    "test = pd.read_csv('test.csv')"
   ]
  },
  {
   "cell_type": "markdown",
   "id": "0c897e0e-1ded-4984-a892-25bba80aab96",
   "metadata": {},
   "source": [
    "## Text Cleaning ##"
   ]
  },
  {
   "cell_type": "markdown",
   "id": "1ba497d1-fed3-454a-b3d8-1de2b0b34e63",
   "metadata": {},
   "source": [
    "### Remove URL ###"
   ]
  },
  {
   "cell_type": "code",
   "execution_count": 7,
   "id": "3c0e2ffe-7a3d-4617-9f26-cd04cc049b52",
   "metadata": {},
   "outputs": [
    {
     "data": {
      "text/html": [
       "<div>\n",
       "<style scoped>\n",
       "    .dataframe tbody tr th:only-of-type {\n",
       "        vertical-align: middle;\n",
       "    }\n",
       "\n",
       "    .dataframe tbody tr th {\n",
       "        vertical-align: top;\n",
       "    }\n",
       "\n",
       "    .dataframe thead th {\n",
       "        text-align: right;\n",
       "    }\n",
       "</style>\n",
       "<table border=\"1\" class=\"dataframe\">\n",
       "  <thead>\n",
       "    <tr style=\"text-align: right;\">\n",
       "      <th></th>\n",
       "      <th>headlines</th>\n",
       "      <th>description</th>\n",
       "      <th>content</th>\n",
       "      <th>category</th>\n",
       "    </tr>\n",
       "  </thead>\n",
       "  <tbody>\n",
       "    <tr>\n",
       "      <th>0</th>\n",
       "      <td>RBI revises definition of politically-exposed ...</td>\n",
       "      <td>The central bank has also asked chairpersons a...</td>\n",
       "      <td>The Reserve Bank of India (RBI) has changed th...</td>\n",
       "      <td>business</td>\n",
       "    </tr>\n",
       "    <tr>\n",
       "      <th>1</th>\n",
       "      <td>NDTV Q2 net profit falls 57.4% to Rs 5.55 cror...</td>\n",
       "      <td>NDTV's consolidated revenue from operations wa...</td>\n",
       "      <td>Broadcaster New Delhi Television Ltd on Monday...</td>\n",
       "      <td>business</td>\n",
       "    </tr>\n",
       "    <tr>\n",
       "      <th>2</th>\n",
       "      <td>Akasa Air ‘well capitalised’, can grow much fa...</td>\n",
       "      <td>The initial share sale will be open for public...</td>\n",
       "      <td>Homegrown server maker Netweb Technologies Ind...</td>\n",
       "      <td>business</td>\n",
       "    </tr>\n",
       "    <tr>\n",
       "      <th>3</th>\n",
       "      <td>India’s current account deficit declines sharp...</td>\n",
       "      <td>The current account deficit (CAD) was 3.8 per ...</td>\n",
       "      <td>India’s current account deficit declined sharp...</td>\n",
       "      <td>business</td>\n",
       "    </tr>\n",
       "    <tr>\n",
       "      <th>4</th>\n",
       "      <td>States borrowing cost soars to 7.68%, highest ...</td>\n",
       "      <td>The prices shot up reflecting the overall high...</td>\n",
       "      <td>States have been forced to pay through their n...</td>\n",
       "      <td>business</td>\n",
       "    </tr>\n",
       "    <tr>\n",
       "      <th>...</th>\n",
       "      <td>...</td>\n",
       "      <td>...</td>\n",
       "      <td>...</td>\n",
       "      <td>...</td>\n",
       "    </tr>\n",
       "    <tr>\n",
       "      <th>5515</th>\n",
       "      <td>Samsung sends out invites for ‘Unpacked 2024’,...</td>\n",
       "      <td>Samsung is most likely to announce next-genera...</td>\n",
       "      <td>Samsung plans to reveal the next-generation fl...</td>\n",
       "      <td>technology</td>\n",
       "    </tr>\n",
       "    <tr>\n",
       "      <th>5516</th>\n",
       "      <td>Google Pixel 8 Pro accidentally appears on off...</td>\n",
       "      <td>The Pixel 8 Pro will most likely carry over it...</td>\n",
       "      <td>Google once again accidentally gave us a glimp...</td>\n",
       "      <td>technology</td>\n",
       "    </tr>\n",
       "    <tr>\n",
       "      <th>5517</th>\n",
       "      <td>Amazon ad on Google Search redirects users to ...</td>\n",
       "      <td>Clicking on the real looking Amazon ad will op...</td>\n",
       "      <td>A new scam seems to be making rounds on the in...</td>\n",
       "      <td>technology</td>\n",
       "    </tr>\n",
       "    <tr>\n",
       "      <th>5518</th>\n",
       "      <td>Elon Musk’s X, previously Twitter, now worth l...</td>\n",
       "      <td>Elon Musk's X, formerly Twitter, has lost more...</td>\n",
       "      <td>More than a year after Elon Musk acquired Twit...</td>\n",
       "      <td>technology</td>\n",
       "    </tr>\n",
       "    <tr>\n",
       "      <th>5519</th>\n",
       "      <td>Apple’s iOS 17.2 update released, and here’s h...</td>\n",
       "      <td>Here is everything you need to know about the ...</td>\n",
       "      <td>Apple has begun rolling out its iOS 17.2 updat...</td>\n",
       "      <td>technology</td>\n",
       "    </tr>\n",
       "  </tbody>\n",
       "</table>\n",
       "<p>5520 rows × 4 columns</p>\n",
       "</div>"
      ],
      "text/plain": [
       "                                              headlines  \\\n",
       "0     RBI revises definition of politically-exposed ...   \n",
       "1     NDTV Q2 net profit falls 57.4% to Rs 5.55 cror...   \n",
       "2     Akasa Air ‘well capitalised’, can grow much fa...   \n",
       "3     India’s current account deficit declines sharp...   \n",
       "4     States borrowing cost soars to 7.68%, highest ...   \n",
       "...                                                 ...   \n",
       "5515  Samsung sends out invites for ‘Unpacked 2024’,...   \n",
       "5516  Google Pixel 8 Pro accidentally appears on off...   \n",
       "5517  Amazon ad on Google Search redirects users to ...   \n",
       "5518  Elon Musk’s X, previously Twitter, now worth l...   \n",
       "5519  Apple’s iOS 17.2 update released, and here’s h...   \n",
       "\n",
       "                                            description  \\\n",
       "0     The central bank has also asked chairpersons a...   \n",
       "1     NDTV's consolidated revenue from operations wa...   \n",
       "2     The initial share sale will be open for public...   \n",
       "3     The current account deficit (CAD) was 3.8 per ...   \n",
       "4     The prices shot up reflecting the overall high...   \n",
       "...                                                 ...   \n",
       "5515  Samsung is most likely to announce next-genera...   \n",
       "5516  The Pixel 8 Pro will most likely carry over it...   \n",
       "5517  Clicking on the real looking Amazon ad will op...   \n",
       "5518  Elon Musk's X, formerly Twitter, has lost more...   \n",
       "5519  Here is everything you need to know about the ...   \n",
       "\n",
       "                                                content    category  \n",
       "0     The Reserve Bank of India (RBI) has changed th...    business  \n",
       "1     Broadcaster New Delhi Television Ltd on Monday...    business  \n",
       "2     Homegrown server maker Netweb Technologies Ind...    business  \n",
       "3     India’s current account deficit declined sharp...    business  \n",
       "4     States have been forced to pay through their n...    business  \n",
       "...                                                 ...         ...  \n",
       "5515  Samsung plans to reveal the next-generation fl...  technology  \n",
       "5516  Google once again accidentally gave us a glimp...  technology  \n",
       "5517  A new scam seems to be making rounds on the in...  technology  \n",
       "5518  More than a year after Elon Musk acquired Twit...  technology  \n",
       "5519  Apple has begun rolling out its iOS 17.2 updat...  technology  \n",
       "\n",
       "[5520 rows x 4 columns]"
      ]
     },
     "execution_count": 7,
     "metadata": {},
     "output_type": "execute_result"
    }
   ],
   "source": [
    "train= train.drop('url', axis=1)\n",
    "train"
   ]
  },
  {
   "cell_type": "code",
   "execution_count": 9,
   "id": "b97c83c4-d255-45ba-9d4d-791c1645f556",
   "metadata": {},
   "outputs": [
    {
     "data": {
      "text/html": [
       "<div>\n",
       "<style scoped>\n",
       "    .dataframe tbody tr th:only-of-type {\n",
       "        vertical-align: middle;\n",
       "    }\n",
       "\n",
       "    .dataframe tbody tr th {\n",
       "        vertical-align: top;\n",
       "    }\n",
       "\n",
       "    .dataframe thead th {\n",
       "        text-align: right;\n",
       "    }\n",
       "</style>\n",
       "<table border=\"1\" class=\"dataframe\">\n",
       "  <thead>\n",
       "    <tr style=\"text-align: right;\">\n",
       "      <th></th>\n",
       "      <th>headlines</th>\n",
       "      <th>description</th>\n",
       "      <th>content</th>\n",
       "      <th>category</th>\n",
       "    </tr>\n",
       "  </thead>\n",
       "  <tbody>\n",
       "    <tr>\n",
       "      <th>0</th>\n",
       "      <td>NLC India wins contract for power supply to Ra...</td>\n",
       "      <td>State-owned firm NLC India Ltd (NLCIL) on Mond...</td>\n",
       "      <td>State-owned firm NLC India Ltd (NLCIL) on Mond...</td>\n",
       "      <td>business</td>\n",
       "    </tr>\n",
       "    <tr>\n",
       "      <th>1</th>\n",
       "      <td>SBI Clerk prelims exams dates announced; admit...</td>\n",
       "      <td>SBI Clerk Prelims Exam: The SBI Clerk prelims ...</td>\n",
       "      <td>SBI Clerk Prelims Exam: The State Bank of Indi...</td>\n",
       "      <td>education</td>\n",
       "    </tr>\n",
       "    <tr>\n",
       "      <th>2</th>\n",
       "      <td>Golden Globes: Michelle Yeoh, Will Ferrell, An...</td>\n",
       "      <td>Barbie is the top nominee this year, followed ...</td>\n",
       "      <td>Michelle Yeoh, Will Ferrell, Angela Bassett an...</td>\n",
       "      <td>entertainment</td>\n",
       "    </tr>\n",
       "    <tr>\n",
       "      <th>3</th>\n",
       "      <td>OnePlus Nord 3 at Rs 27,999 as part of new pri...</td>\n",
       "      <td>New deal makes the OnePlus Nord 3 an easy purc...</td>\n",
       "      <td>In our review of the OnePlus Nord 3 5G, we pra...</td>\n",
       "      <td>technology</td>\n",
       "    </tr>\n",
       "    <tr>\n",
       "      <th>4</th>\n",
       "      <td>Adani family’s partners used ‘opaque’ funds to...</td>\n",
       "      <td>Citing review of files from multiple tax haven...</td>\n",
       "      <td>Millions of dollars were invested in some publ...</td>\n",
       "      <td>business</td>\n",
       "    </tr>\n",
       "    <tr>\n",
       "      <th>...</th>\n",
       "      <td>...</td>\n",
       "      <td>...</td>\n",
       "      <td>...</td>\n",
       "      <td>...</td>\n",
       "    </tr>\n",
       "    <tr>\n",
       "      <th>1995</th>\n",
       "      <td>Sri Lankan government renews Lanka IOC’s petro...</td>\n",
       "      <td>The licence originally issued in 2003 was to e...</td>\n",
       "      <td>The Sri Lankan government has renewed the petr...</td>\n",
       "      <td>business</td>\n",
       "    </tr>\n",
       "    <tr>\n",
       "      <th>1996</th>\n",
       "      <td>Kia launches new Seltos with price starting at...</td>\n",
       "      <td>Shares of Infosys, India's second-largest IT c...</td>\n",
       "      <td>Shares of Infosys, India’s second-largest IT c...</td>\n",
       "      <td>business</td>\n",
       "    </tr>\n",
       "    <tr>\n",
       "      <th>1997</th>\n",
       "      <td>Rebel Moon movie review: Zack Snyder’s spectac...</td>\n",
       "      <td>Rebel Moon movie review: Despite echoes of Lag...</td>\n",
       "      <td>Whatever the tonnage of the cash-laden trucks ...</td>\n",
       "      <td>entertainment</td>\n",
       "    </tr>\n",
       "    <tr>\n",
       "      <th>1998</th>\n",
       "      <td>ChatGPT most popular AI tool with 14.6 billion...</td>\n",
       "      <td>Coming in at a very distant second place was C...</td>\n",
       "      <td>ChatGPT has emerged as the undisputed winner w...</td>\n",
       "      <td>technology</td>\n",
       "    </tr>\n",
       "    <tr>\n",
       "      <th>1999</th>\n",
       "      <td>Salaar Movie Review: Prabhas’ violence-riddled...</td>\n",
       "      <td>Salaar Part 1 Ceasefire Movie Review: Till the...</td>\n",
       "      <td>Salaar Movie Review: It’s tempting to dub ‘Sal...</td>\n",
       "      <td>entertainment</td>\n",
       "    </tr>\n",
       "  </tbody>\n",
       "</table>\n",
       "<p>2000 rows × 4 columns</p>\n",
       "</div>"
      ],
      "text/plain": [
       "                                              headlines  \\\n",
       "0     NLC India wins contract for power supply to Ra...   \n",
       "1     SBI Clerk prelims exams dates announced; admit...   \n",
       "2     Golden Globes: Michelle Yeoh, Will Ferrell, An...   \n",
       "3     OnePlus Nord 3 at Rs 27,999 as part of new pri...   \n",
       "4     Adani family’s partners used ‘opaque’ funds to...   \n",
       "...                                                 ...   \n",
       "1995  Sri Lankan government renews Lanka IOC’s petro...   \n",
       "1996  Kia launches new Seltos with price starting at...   \n",
       "1997  Rebel Moon movie review: Zack Snyder’s spectac...   \n",
       "1998  ChatGPT most popular AI tool with 14.6 billion...   \n",
       "1999  Salaar Movie Review: Prabhas’ violence-riddled...   \n",
       "\n",
       "                                            description  \\\n",
       "0     State-owned firm NLC India Ltd (NLCIL) on Mond...   \n",
       "1     SBI Clerk Prelims Exam: The SBI Clerk prelims ...   \n",
       "2     Barbie is the top nominee this year, followed ...   \n",
       "3     New deal makes the OnePlus Nord 3 an easy purc...   \n",
       "4     Citing review of files from multiple tax haven...   \n",
       "...                                                 ...   \n",
       "1995  The licence originally issued in 2003 was to e...   \n",
       "1996  Shares of Infosys, India's second-largest IT c...   \n",
       "1997  Rebel Moon movie review: Despite echoes of Lag...   \n",
       "1998  Coming in at a very distant second place was C...   \n",
       "1999  Salaar Part 1 Ceasefire Movie Review: Till the...   \n",
       "\n",
       "                                                content       category  \n",
       "0     State-owned firm NLC India Ltd (NLCIL) on Mond...       business  \n",
       "1     SBI Clerk Prelims Exam: The State Bank of Indi...      education  \n",
       "2     Michelle Yeoh, Will Ferrell, Angela Bassett an...  entertainment  \n",
       "3     In our review of the OnePlus Nord 3 5G, we pra...     technology  \n",
       "4     Millions of dollars were invested in some publ...       business  \n",
       "...                                                 ...            ...  \n",
       "1995  The Sri Lankan government has renewed the petr...       business  \n",
       "1996  Shares of Infosys, India’s second-largest IT c...       business  \n",
       "1997  Whatever the tonnage of the cash-laden trucks ...  entertainment  \n",
       "1998  ChatGPT has emerged as the undisputed winner w...     technology  \n",
       "1999  Salaar Movie Review: It’s tempting to dub ‘Sal...  entertainment  \n",
       "\n",
       "[2000 rows x 4 columns]"
      ]
     },
     "execution_count": 9,
     "metadata": {},
     "output_type": "execute_result"
    }
   ],
   "source": [
    "test = test.drop('url', axis=1)\n",
    "test"
   ]
  },
  {
   "cell_type": "code",
   "execution_count": 11,
   "id": "13cf7545-fec5-4e9c-b7ef-faab666a832b",
   "metadata": {},
   "outputs": [],
   "source": [
    "y_train = train['category']\n",
    "y_test = test['category']\n",
    "X_train = train.drop('category', axis=1)\n",
    "X_test = test.drop('category', axis=1)"
   ]
  },
  {
   "cell_type": "markdown",
   "id": "60e46a7f-600b-4795-b5e5-76e90ffcd9d4",
   "metadata": {},
   "source": [
    "### Remove all punctuation ###"
   ]
  },
  {
   "cell_type": "code",
   "execution_count": 13,
   "id": "fd9e9d74-db9f-4558-a788-9f93892e6258",
   "metadata": {},
   "outputs": [],
   "source": [
    "datasets = [X_train, X_test]"
   ]
  },
  {
   "cell_type": "code",
   "execution_count": 15,
   "id": "8a64e3c6-934d-4213-b937-4ade5803b01e",
   "metadata": {},
   "outputs": [],
   "source": [
    "def remove_punctuation_and_special_characters(text):\n",
    "  \"\"\"Removes punctuation and special characters from a string.\n",
    "\n",
    "  Args:\n",
    "    text: The input string.\n",
    "\n",
    "  Returns:\n",
    "    The string with punctuation and special characters removed.\n",
    "  \"\"\"\n",
    "  pattern = r'[^\\w\\s]'  # Matches any character that is NOT a word character (\\w) or whitespace (\\s)\n",
    "  return re.sub(pattern, ' ', text)"
   ]
  },
  {
   "cell_type": "code",
   "execution_count": 17,
   "id": "4fc0a6d6-bbce-4582-ae24-c1e8473f71c8",
   "metadata": {},
   "outputs": [],
   "source": [
    "def clean_dataframe_column_string(df, column_name):\n",
    "    df[column_name] = df[column_name].apply(remove_punctuation_and_special_characters)\n",
    "    return df"
   ]
  },
  {
   "cell_type": "code",
   "execution_count": 19,
   "id": "428b1ca4-1e7b-4da2-8b59-3b0636cc2e11",
   "metadata": {},
   "outputs": [],
   "source": [
    "for df in datasets:\n",
    "    for column in df.columns:\n",
    "        clean_dataframe_column_string(df, column)"
   ]
  },
  {
   "cell_type": "code",
   "execution_count": 21,
   "id": "c4de4a25-12d4-4b11-8af3-b6fbdf0d5bc1",
   "metadata": {},
   "outputs": [],
   "source": [
    "X_train['headlines'] = X_train['headlines'].astype(str)\n",
    "X_train['description'] = X_train['description'].astype(str)\n",
    "X_train['content'] = X_train['content'].astype(str)\n",
    "\n",
    "X_test['headlines'] = X_test['headlines'].astype(str)\n",
    "X_test['description'] = X_test['description'].astype(str)\n",
    "X_test['content'] = X_test['content'].astype(str)\n",
    "\n",
    "X_train['headlines'] = X_train['headlines'].fillna('')  # Replace NaN with empty string\n",
    "X_train['description'] = X_train['description'].fillna('')\n",
    "X_train['content'] = X_train['content'].fillna('')\n",
    "\n",
    "X_test['headlines'] = X_test['headlines'].fillna('')\n",
    "X_test['description'] = X_test['description'].fillna('')\n",
    "X_test['content'] = X_test['content'].fillna('')"
   ]
  },
  {
   "cell_type": "markdown",
   "id": "c6d4c170-0f48-4870-84b5-0377bd353ad9",
   "metadata": {},
   "source": [
    "### CountVectorizer ###"
   ]
  },
  {
   "cell_type": "code",
   "execution_count": 23,
   "id": "9e539ccf-3485-46cb-bd1f-0bcbe0cd0929",
   "metadata": {},
   "outputs": [],
   "source": [
    "def vectorize_news_data(X_train, X_test): # Added train_df argument\n",
    "    \"\"\"Vectorizes heading, description, and body separately and combines them.\n",
    "\n",
    "    Args:\n",
    "      X_train: Training data DataFrame (containing heading, description, body).\n",
    "      X_test: Optional test data DataFrame. If provided, it will be transformed using the vectorizers fitted on the training data.\n",
    "\n",
    "    Returns:\n",
    "        A tuple containing:\n",
    "        - X_train_combined: Combined sparse matrix for training data.\n",
    "        - X_test_combined: Combined sparse matrix for test data (if X_test is provided), otherwise None.\n",
    "    \"\"\"\n",
    "    vectorizers = {}\n",
    "    transformed_features_train = []\n",
    "    transformed_features_test = []\n",
    "\n",
    "    features = ['headlines', 'description', 'content']  # Features to vectorise\n",
    "\n",
    "    for feature in features:\n",
    "        vectorizers[feature] = CountVectorizer(stop_words='english', min_df=2, max_df=0.5)\n",
    "\n",
    "        vectorizers[feature].fit(X_train[feature]) # Fit on training data\n",
    "\n",
    "        transformed_train = vectorizers[feature].transform(X_train[feature])\n",
    "        transformed_features_train.append(transformed_train)\n",
    "\n",
    "        transformed_test = vectorizers[feature].transform(X_test[feature]) # Transform test data\n",
    "        transformed_features_test.append(transformed_test)\n",
    "\n",
    "    X_train_combined = hstack(transformed_features_train)\n",
    "    X_test_combined = hstack(transformed_features_test)\n",
    "    return X_train_combined, X_test_combined"
   ]
  },
  {
   "cell_type": "code",
   "execution_count": 25,
   "id": "3a79ae4f-ec8d-4026-b1e9-c7c6e54b3869",
   "metadata": {},
   "outputs": [],
   "source": [
    "X_train_combined, X_test_combined = vectorize_news_data(X_train, X_test)"
   ]
  },
  {
   "cell_type": "markdown",
   "id": "9b349ba3-b8d0-406e-a6b9-f58d41c10bab",
   "metadata": {},
   "source": [
    "## Defining Models ##"
   ]
  },
  {
   "cell_type": "code",
   "execution_count": 29,
   "id": "a004d7f3-ca30-4981-ade6-7250ef6945d5",
   "metadata": {},
   "outputs": [],
   "source": [
    "logistic_regression = LogisticRegression(max_iter=1000)\n",
    "decision_tree = DecisionTreeClassifier()"
   ]
  },
  {
   "cell_type": "markdown",
   "id": "3790d0b3-339f-4b03-861b-26dc912b9749",
   "metadata": {},
   "source": [
    "## Defining hyperparameters for tuning ##"
   ]
  },
  {
   "cell_type": "code",
   "execution_count": 34,
   "id": "d06adae4-e47f-42cb-8d11-565b1f510b07",
   "metadata": {},
   "outputs": [],
   "source": [
    "param_grid_lr = {\n",
    "    'C': [0.1, 1, 10, 100],\n",
    "    'solver': ['liblinear', 'lbfgs']\n",
    "}\n",
    "\n",
    "param_grid_dt = {\n",
    "    'max_depth': [None, 10, 20, 30],\n",
    "    'min_samples_split': [2, 10, 20],\n",
    "    'min_samples_leaf': [1, 5, 10]\n",
    "}"
   ]
  },
  {
   "cell_type": "markdown",
   "id": "1ebd8c93-ffa6-45e0-81b8-247c4cc0ae0a",
   "metadata": {},
   "source": [
    "## Performing Grid Search with Cross-Validation for Logistic Regression ##"
   ]
  },
  {
   "cell_type": "code",
   "execution_count": 37,
   "id": "029bed60-1ef5-47ce-8aec-28cb124ec641",
   "metadata": {},
   "outputs": [
    {
     "data": {
      "text/html": [
       "<style>#sk-container-id-1 {color: black;background-color: white;}#sk-container-id-1 pre{padding: 0;}#sk-container-id-1 div.sk-toggleable {background-color: white;}#sk-container-id-1 label.sk-toggleable__label {cursor: pointer;display: block;width: 100%;margin-bottom: 0;padding: 0.3em;box-sizing: border-box;text-align: center;}#sk-container-id-1 label.sk-toggleable__label-arrow:before {content: \"▸\";float: left;margin-right: 0.25em;color: #696969;}#sk-container-id-1 label.sk-toggleable__label-arrow:hover:before {color: black;}#sk-container-id-1 div.sk-estimator:hover label.sk-toggleable__label-arrow:before {color: black;}#sk-container-id-1 div.sk-toggleable__content {max-height: 0;max-width: 0;overflow: hidden;text-align: left;background-color: #f0f8ff;}#sk-container-id-1 div.sk-toggleable__content pre {margin: 0.2em;color: black;border-radius: 0.25em;background-color: #f0f8ff;}#sk-container-id-1 input.sk-toggleable__control:checked~div.sk-toggleable__content {max-height: 200px;max-width: 100%;overflow: auto;}#sk-container-id-1 input.sk-toggleable__control:checked~label.sk-toggleable__label-arrow:before {content: \"▾\";}#sk-container-id-1 div.sk-estimator input.sk-toggleable__control:checked~label.sk-toggleable__label {background-color: #d4ebff;}#sk-container-id-1 div.sk-label input.sk-toggleable__control:checked~label.sk-toggleable__label {background-color: #d4ebff;}#sk-container-id-1 input.sk-hidden--visually {border: 0;clip: rect(1px 1px 1px 1px);clip: rect(1px, 1px, 1px, 1px);height: 1px;margin: -1px;overflow: hidden;padding: 0;position: absolute;width: 1px;}#sk-container-id-1 div.sk-estimator {font-family: monospace;background-color: #f0f8ff;border: 1px dotted black;border-radius: 0.25em;box-sizing: border-box;margin-bottom: 0.5em;}#sk-container-id-1 div.sk-estimator:hover {background-color: #d4ebff;}#sk-container-id-1 div.sk-parallel-item::after {content: \"\";width: 100%;border-bottom: 1px solid gray;flex-grow: 1;}#sk-container-id-1 div.sk-label:hover label.sk-toggleable__label {background-color: #d4ebff;}#sk-container-id-1 div.sk-serial::before {content: \"\";position: absolute;border-left: 1px solid gray;box-sizing: border-box;top: 0;bottom: 0;left: 50%;z-index: 0;}#sk-container-id-1 div.sk-serial {display: flex;flex-direction: column;align-items: center;background-color: white;padding-right: 0.2em;padding-left: 0.2em;position: relative;}#sk-container-id-1 div.sk-item {position: relative;z-index: 1;}#sk-container-id-1 div.sk-parallel {display: flex;align-items: stretch;justify-content: center;background-color: white;position: relative;}#sk-container-id-1 div.sk-item::before, #sk-container-id-1 div.sk-parallel-item::before {content: \"\";position: absolute;border-left: 1px solid gray;box-sizing: border-box;top: 0;bottom: 0;left: 50%;z-index: -1;}#sk-container-id-1 div.sk-parallel-item {display: flex;flex-direction: column;z-index: 1;position: relative;background-color: white;}#sk-container-id-1 div.sk-parallel-item:first-child::after {align-self: flex-end;width: 50%;}#sk-container-id-1 div.sk-parallel-item:last-child::after {align-self: flex-start;width: 50%;}#sk-container-id-1 div.sk-parallel-item:only-child::after {width: 0;}#sk-container-id-1 div.sk-dashed-wrapped {border: 1px dashed gray;margin: 0 0.4em 0.5em 0.4em;box-sizing: border-box;padding-bottom: 0.4em;background-color: white;}#sk-container-id-1 div.sk-label label {font-family: monospace;font-weight: bold;display: inline-block;line-height: 1.2em;}#sk-container-id-1 div.sk-label-container {text-align: center;}#sk-container-id-1 div.sk-container {/* jupyter's `normalize.less` sets `[hidden] { display: none; }` but bootstrap.min.css set `[hidden] { display: none !important; }` so we also need the `!important` here to be able to override the default hidden behavior on the sphinx rendered scikit-learn.org. See: https://github.com/scikit-learn/scikit-learn/issues/21755 */display: inline-block !important;position: relative;}#sk-container-id-1 div.sk-text-repr-fallback {display: none;}</style><div id=\"sk-container-id-1\" class=\"sk-top-container\"><div class=\"sk-text-repr-fallback\"><pre>GridSearchCV(cv=5, estimator=LogisticRegression(max_iter=1000), n_jobs=-1,\n",
       "             param_grid={&#x27;C&#x27;: [0.1, 1, 10, 100],\n",
       "                         &#x27;solver&#x27;: [&#x27;liblinear&#x27;, &#x27;lbfgs&#x27;]})</pre><b>In a Jupyter environment, please rerun this cell to show the HTML representation or trust the notebook. <br />On GitHub, the HTML representation is unable to render, please try loading this page with nbviewer.org.</b></div><div class=\"sk-container\" hidden><div class=\"sk-item sk-dashed-wrapped\"><div class=\"sk-label-container\"><div class=\"sk-label sk-toggleable\"><input class=\"sk-toggleable__control sk-hidden--visually\" id=\"sk-estimator-id-1\" type=\"checkbox\" ><label for=\"sk-estimator-id-1\" class=\"sk-toggleable__label sk-toggleable__label-arrow\">GridSearchCV</label><div class=\"sk-toggleable__content\"><pre>GridSearchCV(cv=5, estimator=LogisticRegression(max_iter=1000), n_jobs=-1,\n",
       "             param_grid={&#x27;C&#x27;: [0.1, 1, 10, 100],\n",
       "                         &#x27;solver&#x27;: [&#x27;liblinear&#x27;, &#x27;lbfgs&#x27;]})</pre></div></div></div><div class=\"sk-parallel\"><div class=\"sk-parallel-item\"><div class=\"sk-item\"><div class=\"sk-label-container\"><div class=\"sk-label sk-toggleable\"><input class=\"sk-toggleable__control sk-hidden--visually\" id=\"sk-estimator-id-2\" type=\"checkbox\" ><label for=\"sk-estimator-id-2\" class=\"sk-toggleable__label sk-toggleable__label-arrow\">estimator: LogisticRegression</label><div class=\"sk-toggleable__content\"><pre>LogisticRegression(max_iter=1000)</pre></div></div></div><div class=\"sk-serial\"><div class=\"sk-item\"><div class=\"sk-estimator sk-toggleable\"><input class=\"sk-toggleable__control sk-hidden--visually\" id=\"sk-estimator-id-3\" type=\"checkbox\" ><label for=\"sk-estimator-id-3\" class=\"sk-toggleable__label sk-toggleable__label-arrow\">LogisticRegression</label><div class=\"sk-toggleable__content\"><pre>LogisticRegression(max_iter=1000)</pre></div></div></div></div></div></div></div></div></div></div>"
      ],
      "text/plain": [
       "GridSearchCV(cv=5, estimator=LogisticRegression(max_iter=1000), n_jobs=-1,\n",
       "             param_grid={'C': [0.1, 1, 10, 100],\n",
       "                         'solver': ['liblinear', 'lbfgs']})"
      ]
     },
     "execution_count": 37,
     "metadata": {},
     "output_type": "execute_result"
    }
   ],
   "source": [
    "grid_search_lr = GridSearchCV(logistic_regression, param_grid_lr, cv=5, n_jobs=-1)\n",
    "grid_search_lr.fit(X_train_combined, y_train)"
   ]
  },
  {
   "cell_type": "markdown",
   "id": "4127b51d-fe7d-450d-9d48-e9bec1046a1f",
   "metadata": {},
   "source": [
    "## Performing Grid Search with Cross-Validation for Decision Tree ##"
   ]
  },
  {
   "cell_type": "code",
   "execution_count": 41,
   "id": "7001f264-66b0-4ef3-b249-b8f9f05bca24",
   "metadata": {},
   "outputs": [
    {
     "data": {
      "text/html": [
       "<style>#sk-container-id-2 {color: black;background-color: white;}#sk-container-id-2 pre{padding: 0;}#sk-container-id-2 div.sk-toggleable {background-color: white;}#sk-container-id-2 label.sk-toggleable__label {cursor: pointer;display: block;width: 100%;margin-bottom: 0;padding: 0.3em;box-sizing: border-box;text-align: center;}#sk-container-id-2 label.sk-toggleable__label-arrow:before {content: \"▸\";float: left;margin-right: 0.25em;color: #696969;}#sk-container-id-2 label.sk-toggleable__label-arrow:hover:before {color: black;}#sk-container-id-2 div.sk-estimator:hover label.sk-toggleable__label-arrow:before {color: black;}#sk-container-id-2 div.sk-toggleable__content {max-height: 0;max-width: 0;overflow: hidden;text-align: left;background-color: #f0f8ff;}#sk-container-id-2 div.sk-toggleable__content pre {margin: 0.2em;color: black;border-radius: 0.25em;background-color: #f0f8ff;}#sk-container-id-2 input.sk-toggleable__control:checked~div.sk-toggleable__content {max-height: 200px;max-width: 100%;overflow: auto;}#sk-container-id-2 input.sk-toggleable__control:checked~label.sk-toggleable__label-arrow:before {content: \"▾\";}#sk-container-id-2 div.sk-estimator input.sk-toggleable__control:checked~label.sk-toggleable__label {background-color: #d4ebff;}#sk-container-id-2 div.sk-label input.sk-toggleable__control:checked~label.sk-toggleable__label {background-color: #d4ebff;}#sk-container-id-2 input.sk-hidden--visually {border: 0;clip: rect(1px 1px 1px 1px);clip: rect(1px, 1px, 1px, 1px);height: 1px;margin: -1px;overflow: hidden;padding: 0;position: absolute;width: 1px;}#sk-container-id-2 div.sk-estimator {font-family: monospace;background-color: #f0f8ff;border: 1px dotted black;border-radius: 0.25em;box-sizing: border-box;margin-bottom: 0.5em;}#sk-container-id-2 div.sk-estimator:hover {background-color: #d4ebff;}#sk-container-id-2 div.sk-parallel-item::after {content: \"\";width: 100%;border-bottom: 1px solid gray;flex-grow: 1;}#sk-container-id-2 div.sk-label:hover label.sk-toggleable__label {background-color: #d4ebff;}#sk-container-id-2 div.sk-serial::before {content: \"\";position: absolute;border-left: 1px solid gray;box-sizing: border-box;top: 0;bottom: 0;left: 50%;z-index: 0;}#sk-container-id-2 div.sk-serial {display: flex;flex-direction: column;align-items: center;background-color: white;padding-right: 0.2em;padding-left: 0.2em;position: relative;}#sk-container-id-2 div.sk-item {position: relative;z-index: 1;}#sk-container-id-2 div.sk-parallel {display: flex;align-items: stretch;justify-content: center;background-color: white;position: relative;}#sk-container-id-2 div.sk-item::before, #sk-container-id-2 div.sk-parallel-item::before {content: \"\";position: absolute;border-left: 1px solid gray;box-sizing: border-box;top: 0;bottom: 0;left: 50%;z-index: -1;}#sk-container-id-2 div.sk-parallel-item {display: flex;flex-direction: column;z-index: 1;position: relative;background-color: white;}#sk-container-id-2 div.sk-parallel-item:first-child::after {align-self: flex-end;width: 50%;}#sk-container-id-2 div.sk-parallel-item:last-child::after {align-self: flex-start;width: 50%;}#sk-container-id-2 div.sk-parallel-item:only-child::after {width: 0;}#sk-container-id-2 div.sk-dashed-wrapped {border: 1px dashed gray;margin: 0 0.4em 0.5em 0.4em;box-sizing: border-box;padding-bottom: 0.4em;background-color: white;}#sk-container-id-2 div.sk-label label {font-family: monospace;font-weight: bold;display: inline-block;line-height: 1.2em;}#sk-container-id-2 div.sk-label-container {text-align: center;}#sk-container-id-2 div.sk-container {/* jupyter's `normalize.less` sets `[hidden] { display: none; }` but bootstrap.min.css set `[hidden] { display: none !important; }` so we also need the `!important` here to be able to override the default hidden behavior on the sphinx rendered scikit-learn.org. See: https://github.com/scikit-learn/scikit-learn/issues/21755 */display: inline-block !important;position: relative;}#sk-container-id-2 div.sk-text-repr-fallback {display: none;}</style><div id=\"sk-container-id-2\" class=\"sk-top-container\"><div class=\"sk-text-repr-fallback\"><pre>GridSearchCV(cv=5, estimator=DecisionTreeClassifier(), n_jobs=-1,\n",
       "             param_grid={&#x27;max_depth&#x27;: [None, 10, 20, 30],\n",
       "                         &#x27;min_samples_leaf&#x27;: [1, 5, 10],\n",
       "                         &#x27;min_samples_split&#x27;: [2, 10, 20]})</pre><b>In a Jupyter environment, please rerun this cell to show the HTML representation or trust the notebook. <br />On GitHub, the HTML representation is unable to render, please try loading this page with nbviewer.org.</b></div><div class=\"sk-container\" hidden><div class=\"sk-item sk-dashed-wrapped\"><div class=\"sk-label-container\"><div class=\"sk-label sk-toggleable\"><input class=\"sk-toggleable__control sk-hidden--visually\" id=\"sk-estimator-id-4\" type=\"checkbox\" ><label for=\"sk-estimator-id-4\" class=\"sk-toggleable__label sk-toggleable__label-arrow\">GridSearchCV</label><div class=\"sk-toggleable__content\"><pre>GridSearchCV(cv=5, estimator=DecisionTreeClassifier(), n_jobs=-1,\n",
       "             param_grid={&#x27;max_depth&#x27;: [None, 10, 20, 30],\n",
       "                         &#x27;min_samples_leaf&#x27;: [1, 5, 10],\n",
       "                         &#x27;min_samples_split&#x27;: [2, 10, 20]})</pre></div></div></div><div class=\"sk-parallel\"><div class=\"sk-parallel-item\"><div class=\"sk-item\"><div class=\"sk-label-container\"><div class=\"sk-label sk-toggleable\"><input class=\"sk-toggleable__control sk-hidden--visually\" id=\"sk-estimator-id-5\" type=\"checkbox\" ><label for=\"sk-estimator-id-5\" class=\"sk-toggleable__label sk-toggleable__label-arrow\">estimator: DecisionTreeClassifier</label><div class=\"sk-toggleable__content\"><pre>DecisionTreeClassifier()</pre></div></div></div><div class=\"sk-serial\"><div class=\"sk-item\"><div class=\"sk-estimator sk-toggleable\"><input class=\"sk-toggleable__control sk-hidden--visually\" id=\"sk-estimator-id-6\" type=\"checkbox\" ><label for=\"sk-estimator-id-6\" class=\"sk-toggleable__label sk-toggleable__label-arrow\">DecisionTreeClassifier</label><div class=\"sk-toggleable__content\"><pre>DecisionTreeClassifier()</pre></div></div></div></div></div></div></div></div></div></div>"
      ],
      "text/plain": [
       "GridSearchCV(cv=5, estimator=DecisionTreeClassifier(), n_jobs=-1,\n",
       "             param_grid={'max_depth': [None, 10, 20, 30],\n",
       "                         'min_samples_leaf': [1, 5, 10],\n",
       "                         'min_samples_split': [2, 10, 20]})"
      ]
     },
     "execution_count": 41,
     "metadata": {},
     "output_type": "execute_result"
    }
   ],
   "source": [
    "grid_search_dt = GridSearchCV(decision_tree, param_grid_dt, cv=5, n_jobs=-1)\n",
    "grid_search_dt.fit(X_train_combined, y_train)"
   ]
  },
  {
   "cell_type": "markdown",
   "id": "c3be15d6-45c4-4337-aa7d-3871fe6eff53",
   "metadata": {},
   "source": [
    "## Getting the best models ##"
   ]
  },
  {
   "cell_type": "code",
   "execution_count": 49,
   "id": "06975e96-89d6-4c74-a69b-ac7d2c425994",
   "metadata": {},
   "outputs": [],
   "source": [
    "best_lr = grid_search_lr.best_estimator_\n",
    "best_dt = grid_search_dt.best_estimator_"
   ]
  },
  {
   "cell_type": "markdown",
   "id": "383f6cb2-4b1d-473c-911d-c20f7babe913",
   "metadata": {},
   "source": [
    "## Making predictions on the test set ##"
   ]
  },
  {
   "cell_type": "code",
   "execution_count": 53,
   "id": "2ce8efc8-0387-4572-a9e5-5ddd5d54abd6",
   "metadata": {},
   "outputs": [],
   "source": [
    "y_pred_lr = best_lr.predict(X_test_combined)\n",
    "y_pred_dt = best_dt.predict(X_test_combined)"
   ]
  },
  {
   "cell_type": "markdown",
   "id": "64334ab9-df89-4dbc-a319-65b108e25dce",
   "metadata": {},
   "source": [
    "## Print classification reports ##"
   ]
  },
  {
   "cell_type": "code",
   "execution_count": 56,
   "id": "343c8d95-0c94-4b9a-925b-e02401bea387",
   "metadata": {},
   "outputs": [
    {
     "name": "stdout",
     "output_type": "stream",
     "text": [
      "Logistic Regression Classification Report:\n",
      "               precision    recall  f1-score   support\n",
      "\n",
      "     business       0.98      0.96      0.97       400\n",
      "    education       0.99      0.99      0.99       400\n",
      "entertainment       1.00      0.99      0.99       400\n",
      "       sports       0.99      0.99      0.99       400\n",
      "   technology       0.95      0.97      0.96       400\n",
      "\n",
      "     accuracy                           0.98      2000\n",
      "    macro avg       0.98      0.98      0.98      2000\n",
      " weighted avg       0.98      0.98      0.98      2000\n",
      "\n",
      "Decision Tree Classification Report:\n",
      "               precision    recall  f1-score   support\n",
      "\n",
      "     business       0.83      0.88      0.85       400\n",
      "    education       0.92      0.93      0.93       400\n",
      "entertainment       0.97      0.94      0.96       400\n",
      "       sports       0.93      0.87      0.90       400\n",
      "   technology       0.82      0.85      0.83       400\n",
      "\n",
      "     accuracy                           0.89      2000\n",
      "    macro avg       0.90      0.89      0.89      2000\n",
      " weighted avg       0.90      0.89      0.89      2000\n",
      "\n"
     ]
    }
   ],
   "source": [
    "print(\"Logistic Regression Classification Report:\")\n",
    "print(classification_report(y_test, y_pred_lr))\n",
    "\n",
    "print(\"Decision Tree Classification Report:\")\n",
    "print(classification_report(y_test, y_pred_dt))"
   ]
  },
  {
   "cell_type": "code",
   "execution_count": null,
   "id": "b857717f-1c04-4c83-8cd3-1a26855ae621",
   "metadata": {},
   "outputs": [],
   "source": []
  }
 ],
 "metadata": {
  "kernelspec": {
   "display_name": "Python 3 (ipykernel)",
   "language": "python",
   "name": "python3"
  },
  "language_info": {
   "codemirror_mode": {
    "name": "ipython",
    "version": 3
   },
   "file_extension": ".py",
   "mimetype": "text/x-python",
   "name": "python",
   "nbconvert_exporter": "python",
   "pygments_lexer": "ipython3",
   "version": "3.11.7"
  }
 },
 "nbformat": 4,
 "nbformat_minor": 5
}
