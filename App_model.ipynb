{
 "cells": [
  {
   "cell_type": "code",
   "execution_count": 1,
   "id": "fd04861e-092b-4d40-b715-a968cf9b2ea3",
   "metadata": {},
   "outputs": [],
   "source": [
    "import nltk\n",
    "import numpy as np\n",
    "import pandas as pd\n",
    "import matplotlib.pyplot as plt\n",
    "%matplotlib inline\n",
    "import seaborn as sns\n",
    "import re\n",
    "sns.set_theme()\n",
    "import mlflow\n",
    "import joblib\n",
    "\n",
    "from sklearn.feature_extraction.text import CountVectorizer\n",
    "from scipy.sparse import hstack\n",
    "from collections import Counter\n",
    "from nltk.corpus import stopwords\n",
    "\n",
    "from sklearn.ensemble import RandomForestClassifier\n",
    "from sklearn.model_selection import GridSearchCV\n",
    "from sklearn.metrics import accuracy_score, precision_score, recall_score, f1_score\n",
    "\n",
    "from sklearn.linear_model import LogisticRegression\n",
    "from sklearn.tree import DecisionTreeClassifier\n",
    "from sklearn.metrics import classification_report"
   ]
  },
  {
   "cell_type": "code",
   "execution_count": 2,
   "id": "67cb78d9-e861-4265-b374-3f6111e10949",
   "metadata": {},
   "outputs": [],
   "source": [
    "train = pd.read_csv('train.csv')\n",
    "test = pd.read_csv('test.csv')"
   ]
  },
  {
   "cell_type": "code",
   "execution_count": 3,
   "id": "26681660-38d2-4f4f-b1d4-8afd4e1c0246",
   "metadata": {},
   "outputs": [
    {
     "data": {
      "text/html": [
       "<div>\n",
       "<style scoped>\n",
       "    .dataframe tbody tr th:only-of-type {\n",
       "        vertical-align: middle;\n",
       "    }\n",
       "\n",
       "    .dataframe tbody tr th {\n",
       "        vertical-align: top;\n",
       "    }\n",
       "\n",
       "    .dataframe thead th {\n",
       "        text-align: right;\n",
       "    }\n",
       "</style>\n",
       "<table border=\"1\" class=\"dataframe\">\n",
       "  <thead>\n",
       "    <tr style=\"text-align: right;\">\n",
       "      <th></th>\n",
       "      <th>headlines</th>\n",
       "      <th>description</th>\n",
       "      <th>content</th>\n",
       "      <th>category</th>\n",
       "    </tr>\n",
       "  </thead>\n",
       "  <tbody>\n",
       "    <tr>\n",
       "      <th>0</th>\n",
       "      <td>RBI revises definition of politically-exposed ...</td>\n",
       "      <td>The central bank has also asked chairpersons a...</td>\n",
       "      <td>The Reserve Bank of India (RBI) has changed th...</td>\n",
       "      <td>business</td>\n",
       "    </tr>\n",
       "    <tr>\n",
       "      <th>1</th>\n",
       "      <td>NDTV Q2 net profit falls 57.4% to Rs 5.55 cror...</td>\n",
       "      <td>NDTV's consolidated revenue from operations wa...</td>\n",
       "      <td>Broadcaster New Delhi Television Ltd on Monday...</td>\n",
       "      <td>business</td>\n",
       "    </tr>\n",
       "    <tr>\n",
       "      <th>2</th>\n",
       "      <td>Akasa Air ‘well capitalised’, can grow much fa...</td>\n",
       "      <td>The initial share sale will be open for public...</td>\n",
       "      <td>Homegrown server maker Netweb Technologies Ind...</td>\n",
       "      <td>business</td>\n",
       "    </tr>\n",
       "    <tr>\n",
       "      <th>3</th>\n",
       "      <td>India’s current account deficit declines sharp...</td>\n",
       "      <td>The current account deficit (CAD) was 3.8 per ...</td>\n",
       "      <td>India’s current account deficit declined sharp...</td>\n",
       "      <td>business</td>\n",
       "    </tr>\n",
       "    <tr>\n",
       "      <th>4</th>\n",
       "      <td>States borrowing cost soars to 7.68%, highest ...</td>\n",
       "      <td>The prices shot up reflecting the overall high...</td>\n",
       "      <td>States have been forced to pay through their n...</td>\n",
       "      <td>business</td>\n",
       "    </tr>\n",
       "  </tbody>\n",
       "</table>\n",
       "</div>"
      ],
      "text/plain": [
       "                                           headlines  \\\n",
       "0  RBI revises definition of politically-exposed ...   \n",
       "1  NDTV Q2 net profit falls 57.4% to Rs 5.55 cror...   \n",
       "2  Akasa Air ‘well capitalised’, can grow much fa...   \n",
       "3  India’s current account deficit declines sharp...   \n",
       "4  States borrowing cost soars to 7.68%, highest ...   \n",
       "\n",
       "                                         description  \\\n",
       "0  The central bank has also asked chairpersons a...   \n",
       "1  NDTV's consolidated revenue from operations wa...   \n",
       "2  The initial share sale will be open for public...   \n",
       "3  The current account deficit (CAD) was 3.8 per ...   \n",
       "4  The prices shot up reflecting the overall high...   \n",
       "\n",
       "                                             content  category  \n",
       "0  The Reserve Bank of India (RBI) has changed th...  business  \n",
       "1  Broadcaster New Delhi Television Ltd on Monday...  business  \n",
       "2  Homegrown server maker Netweb Technologies Ind...  business  \n",
       "3  India’s current account deficit declined sharp...  business  \n",
       "4  States have been forced to pay through their n...  business  "
      ]
     },
     "execution_count": 3,
     "metadata": {},
     "output_type": "execute_result"
    }
   ],
   "source": [
    "train= train.drop('url', axis=1)\n",
    "train.head()"
   ]
  },
  {
   "cell_type": "code",
   "execution_count": 4,
   "id": "4b791571-0919-4f76-9f57-bd21c3263562",
   "metadata": {},
   "outputs": [],
   "source": [
    "y_train = train['category']\n",
    "y_test = test['category']\n",
    "X_train = train.drop('category', axis=1)\n",
    "X_test = test.drop('category', axis=1)"
   ]
  },
  {
   "cell_type": "code",
   "execution_count": 5,
   "id": "4bdabe34-fa54-49d0-9d17-24ef18c1cb09",
   "metadata": {},
   "outputs": [],
   "source": [
    "datasets = [X_train, X_test]"
   ]
  },
  {
   "cell_type": "code",
   "execution_count": 6,
   "id": "e4879d02-0332-4a88-a3a5-a4ff6df04fc6",
   "metadata": {},
   "outputs": [],
   "source": [
    "def remove_punctuation_and_special_characters(text):\n",
    "  \"\"\"Removes punctuation and special characters from a string.\n",
    "\n",
    "  Args:\n",
    "    text: The input string.\n",
    "\n",
    "  Returns:\n",
    "    The string with punctuation and special characters removed.\n",
    "  \"\"\"\n",
    "  pattern = r'[^\\w\\s]'  # Matches any character that is NOT a word character (\\w) or whitespace (\\s)\n",
    "  return re.sub(pattern, ' ', text)"
   ]
  },
  {
   "cell_type": "code",
   "execution_count": 7,
   "id": "1225192c-981e-41ec-b1b0-ae456851d9a1",
   "metadata": {},
   "outputs": [],
   "source": [
    "def clean_dataframe_column_string(df, column_name):\n",
    "    df[column_name] = df[column_name].apply(remove_punctuation_and_special_characters)\n",
    "    return df"
   ]
  },
  {
   "cell_type": "code",
   "execution_count": 8,
   "id": "e77ee7ad-030f-4106-939b-6f2c3728c67c",
   "metadata": {},
   "outputs": [],
   "source": [
    "for df in datasets:\n",
    "    for column in df.columns:\n",
    "        clean_dataframe_column_string(df, column)"
   ]
  },
  {
   "cell_type": "code",
   "execution_count": 9,
   "id": "2a62addb-5b1b-4fdc-8bef-b02fefacd16e",
   "metadata": {},
   "outputs": [],
   "source": [
    "X_train['headlines'] = X_train['headlines'].astype(str)\n",
    "X_train['description'] = X_train['description'].astype(str)\n",
    "X_train['content'] = X_train['content'].astype(str)\n",
    "\n",
    "X_test['headlines'] = X_test['headlines'].astype(str)\n",
    "X_test['description'] = X_test['description'].astype(str)\n",
    "X_test['content'] = X_test['content'].astype(str)\n",
    "\n",
    "X_train['headlines'] = X_train['headlines'].fillna('')  # Replace NaN with empty string\n",
    "X_train['description'] = X_train['description'].fillna('')\n",
    "X_train['content'] = X_train['content'].fillna('')\n",
    "\n",
    "X_test['headlines'] = X_test['headlines'].fillna('')\n",
    "X_test['description'] = X_test['description'].fillna('')\n",
    "X_test['content'] = X_test['content'].fillna('')"
   ]
  },
  {
   "cell_type": "code",
   "execution_count": 11,
   "id": "c6924401-a7b1-4273-835b-5b23b9684a19",
   "metadata": {},
   "outputs": [
    {
     "name": "stderr",
     "output_type": "stream",
     "text": [
      "2025/02/17 21:01:15 WARNING mlflow.models.model: Model logged without a signature and input example. Please set `input_example` parameter when logging the model to auto infer the model signature.\n"
     ]
    },
    {
     "name": "stdout",
     "output_type": "stream",
     "text": [
      "Logistic Regression Classification Report:\n",
      "               precision    recall  f1-score   support\n",
      "\n",
      "     business       0.98      0.96      0.97       400\n",
      "    education       0.99      0.98      0.99       400\n",
      "entertainment       0.99      0.99      0.99       400\n",
      "       sports       0.99      0.99      0.99       400\n",
      "   technology       0.95      0.97      0.96       400\n",
      "\n",
      "     accuracy                           0.98      2000\n",
      "    macro avg       0.98      0.98      0.98      2000\n",
      " weighted avg       0.98      0.98      0.98      2000\n",
      "\n"
     ]
    }
   ],
   "source": [
    "# Combine headlines and description\n",
    "X_train_combined_text = X_train['headlines'] + \" \" + X_train['description'] + \" \" + X_train['content']\n",
    "X_test_combined_text = X_test['headlines'] + \" \" + X_test['description'] + \" \" + X_test['content']\n",
    "\n",
    "with mlflow.start_run():\n",
    "    # Vectorize the combined text\n",
    "    vectorizer_combined = CountVectorizer(stop_words='english', min_df=2, max_df=0.5)\n",
    "    X_train_combined_vectorized = vectorizer_combined.fit_transform(X_train_combined_text)\n",
    "    X_test_combined_vectorized = vectorizer_combined.transform(X_test_combined_text)\n",
    "\n",
    "    vectorizer_path = \"vectorizer.pkl\"\n",
    "    joblib.dump(vectorizer_combined, vectorizer_path)\n",
    "    mlflow.log_artifact(vectorizer_path, \"vectorizers\")\n",
    "\n",
    "    best_model = LogisticRegression(C=10, max_iter=1000, solver='liblinear')\n",
    "    best_model.fit(X_train_combined_vectorized, y_train)\n",
    "    y_pred = best_model.predict(X_test_combined_vectorized)\n",
    "\n",
    "    # Log the logistic regression model\n",
    "    mlflow.sklearn.log_model(best_model, \"logistic_regression_model\")\n",
    "\n",
    "    model_path = \"Logistic_Regression.pkl\"\n",
    "    joblib.dump(best_model, model_path)\n",
    "    mlflow.log_artifact(model_path, \"log_model\")\n",
    "\n",
    "    # Log metrics (e.g., classification report)\n",
    "    classification_rep = classification_report(y_test, y_pred, output_dict=True)\n",
    "    for key, value in classification_rep.items():\n",
    "        if isinstance(value, dict):  # Log precision, recall, F1-score, etc.\n",
    "            for subkey, subvalue in value.items():\n",
    "                mlflow.log_metric(f\"{key}_{subkey}\", subvalue)\n",
    "        else:  # Log accuracy\n",
    "            mlflow.log_metric(key, value)\n",
    "\n",
    "    # Print the classification report\n",
    "    print(\"Logistic Regression Classification Report:\")\n",
    "    print(classification_report(y_test, y_pred))"
   ]
  },
  {
   "cell_type": "code",
   "execution_count": null,
   "id": "52994820-aab7-45ac-82af-c47100e978ac",
   "metadata": {},
   "outputs": [],
   "source": []
  },
  {
   "cell_type": "code",
   "execution_count": null,
   "id": "ed009c32-7b27-4b6b-af8f-4fadec540daa",
   "metadata": {},
   "outputs": [],
   "source": []
  },
  {
   "cell_type": "code",
   "execution_count": null,
   "id": "fb1350e8-d808-4650-bc65-62a3da0e1072",
   "metadata": {},
   "outputs": [],
   "source": []
  },
  {
   "cell_type": "code",
   "execution_count": null,
   "id": "9a98868a-adc6-41ed-adeb-798758cf63f8",
   "metadata": {},
   "outputs": [],
   "source": []
  },
  {
   "cell_type": "code",
   "execution_count": null,
   "id": "996029d2-6206-4333-968d-b4c5882de3b5",
   "metadata": {},
   "outputs": [],
   "source": []
  },
  {
   "cell_type": "code",
   "execution_count": null,
   "id": "41484ee5-1d61-46cc-9bc5-950d3644dd2a",
   "metadata": {},
   "outputs": [],
   "source": []
  },
  {
   "cell_type": "code",
   "execution_count": null,
   "id": "59fc9f24-740a-4dbe-9e75-aca54ce2ae28",
   "metadata": {},
   "outputs": [],
   "source": []
  },
  {
   "cell_type": "code",
   "execution_count": null,
   "id": "d3428dbe-977f-4d3f-9898-1451829b1489",
   "metadata": {},
   "outputs": [],
   "source": []
  }
 ],
 "metadata": {
  "kernelspec": {
   "display_name": "Python 3 (ipykernel)",
   "language": "python",
   "name": "python3"
  },
  "language_info": {
   "codemirror_mode": {
    "name": "ipython",
    "version": 3
   },
   "file_extension": ".py",
   "mimetype": "text/x-python",
   "name": "python",
   "nbconvert_exporter": "python",
   "pygments_lexer": "ipython3",
   "version": "3.11.7"
  }
 },
 "nbformat": 4,
 "nbformat_minor": 5
}
